{
 "cells": [
  {
   "cell_type": "code",
   "execution_count": null,
   "id": "5067d483",
   "metadata": {},
   "outputs": [],
   "source": [
    "### 🛒 Desafio Extra — Projeto de Vendas com PostgreSQL usando psycopg2 e ipython-sql.\n",
    "\n",
    "Agora que você finalizou a análise dos dados de vendas, chegou o momento de estruturar tudo como um banco de dados relacional real!\n",
    "\n",
    "Neste desafio, você irá:\n",
    "\n",
    "✅ Conectar ao PostgreSQL  \n",
    "✅ Criar as tabelas via SQL  \n",
    "✅ Inserir os dados linha a linha a partir do DataFrame (o dataframe gerado da Venda o qual calculamos a venda com aumento) .\n",
    "✅ Realizar algumas consultas de negócio com SQL puro  \n",
    "\n",
    "---\n",
    "\n",
    "#### 🎯 Objetivo\n",
    "\n",
    "Transformar os dados do seu projeto de vendas em um banco PostgreSQL, criando uma tabela chamada `vendas_final`, contendo as informações abaixo:\n",
    "\n",
    "##### 🧱 Estrutura esperada da tabela `vendas_final`\n",
    "\n",
    "| Campo           | Tipo     | Descrição                            |\n",
    "|-----------------|----------|--------------------------------------|\n",
    "| cod_produto     | texto    | Código identificador do produto      |\n",
    "| nome_produto    | texto    | Nome do produto                      |\n",
    "| categoria       | texto    | Categoria do produto                 |\n",
    "| valor_venda     | numérico | Valor original da venda              |\n",
    "| venda_final     | numérico | Valor com aumento aplicado           |\n",
    "| nome_vendedor   | texto    | Nome do vendedor responsável         |\n",
    "| data_venda      | data     | Data em que ocorreu a venda          |\n",
    "\n",
    "\n",
    "# Tentativa de conexão ao banco PostgreSQL\n",
    "try:\n",
    "    conn = psycopg2.connect(\n",
    "        host=\"localhost\",\n",
    "        database=\"ProjetoVendas\",  # Nome atualizado do banco\n",
    "        user=\"postgres\",              # Altere se necessário\n",
    "        password=\"1234\"               # Altere se necessário\n",
    "    )\n",
    "    print(\"Conexão bem sucedida!\")\n",
    "except Exception as e:\n",
    "    print(\"Erro ao conectar ao banco de dados:\", e)\n",
    "\n",
    "# Criando o cursor\n",
    "crsr = conn.cursor()\n",
    "\n",
    "```\n",
    "#### 🔑 Etapa 2 — Crie as tabelas com SQL com Python;\n",
    "#### 🔎 Etapa 3 - Inserir os dados na tabela apartir do dataframe.\n",
    "#### 📥 Etapa 4 - Realizar algumas consultas de negócio com SQL puro.\n",
    "\n",
    "- Qual foi o total de vendas por categoria?\n",
    "- Quem foram os 3 vendedores que mais venderam?\n",
    "- Qual a média de valor final de venda?\n",
    "\n",
    "\n",
    "#### 📦 Entregáveis do Desafio:\n",
    "\n",
    "✅ Notebook .ipynb com:\n",
    "\n",
    "- Conexão via psycopg2;\n",
    "- Criação da tabela vendas_final;\n",
    "- Inserção linha a linha dos dados;\n",
    "- Banco PostgreSQL populado com os dados corretos;\n",
    "- Execução de 3 consultas SQL obrigatórias;\n",
    "\n",
    "✅ Entrega do Projeto:\n",
    "\n",
    "- Subir o projeto no GITHUB, documentado e me enviar o link do repositório por email.\n",
    "- Ou enviar o projeto por e-mail: nayara.valevskii@gmail.com\n",
    "\n",
    "#### DICA:\n",
    "\n",
    "Aproveite o projeto para o portfólio, documente e post no Linkedin.\n",
    "\n",
    "Boa sorte, galerinhaaa! 🔥"
   ]
  },
  {
   "cell_type": "code",
   "execution_count": 42,
   "id": "102abdb1",
   "metadata": {},
   "outputs": [],
   "source": [
    "# Importação de bibliotecas necessárias\n",
    "import pandas as pd\n",
    "import psycopg2\n",
    "from psycopg2 import sql\n",
    "from psycopg2.extras import execute_batch\n",
    "from datetime import datetime\n",
    "import warnings\n",
    "warnings.filterwarnings('ignore')"
   ]
  },
  {
   "cell_type": "code",
   "execution_count": null,
   "id": "e02a869e",
   "metadata": {},
   "outputs": [],
   "source": [
    "\n",
    "#### 🔌 Etapa 1 — Conectando ao banco PostgreSQL"
   ]
  },
  {
   "cell_type": "code",
   "execution_count": 43,
   "id": "2a2e464f",
   "metadata": {},
   "outputs": [
    {
     "name": "stdout",
     "output_type": "stream",
     "text": [
      "Conexão estabelecida com sucesso!\n"
     ]
    }
   ],
   "source": [
    "# ## Etapa 1: Conexão com o Banco de Dados\n",
    "\n",
    "# %%\n",
    "def conectar_banco():\n",
    "    \"\"\"Estabelece conexão com o banco PostgreSQL\"\"\"\n",
    "    try:\n",
    "        conn = psycopg2.connect(\n",
    "            host=\"localhost\",\n",
    "            database=\"ProjetoVendas\",\n",
    "            user=\"postgres\",\n",
    "            password=\"1234\"\n",
    "        )\n",
    "        print(\"Conexão estabelecida com sucesso!\")\n",
    "        return conn\n",
    "    except Exception as e:\n",
    "        print(f\"Erro ao conectar ao banco de dados: {e}\")\n",
    "        return None\n",
    "\n",
    "# Testando a conexão\n",
    "conn = conectar_banco()"
   ]
  },
  {
   "cell_type": "code",
   "execution_count": null,
   "id": "9f90f26e",
   "metadata": {},
   "outputs": [],
   "source": [
    "## Etapa 2: Processamento dos Dados"
   ]
  },
  {
   "cell_type": "code",
   "execution_count": 51,
   "id": "62f5fc5c",
   "metadata": {},
   "outputs": [],
   "source": [
    "\n",
    "# Carregando os dados da venda com aumento\n",
    "df = pd.read_csv('C:\\\\Users\\\\soray\\\\Downloads\\\\Aula 4\\\\base_vendas.csv', encoding='ISO-8859-1')  # Codificação Latin-1\n"
   ]
  },
  {
   "cell_type": "code",
   "execution_count": 53,
   "id": "a689c810",
   "metadata": {},
   "outputs": [
    {
     "name": "stdout",
     "output_type": "stream",
     "text": [
      "Dados carregados com sucesso!\n"
     ]
    }
   ],
   "source": [
    "try:\n",
    "    # Carrega os dados com codificação alternativa\n",
    "    df_vendas = pd.read_csv('base_vendas.csv', sep=';', encoding='ISO-8859-1')\n",
    "    df_categorias = pd.read_csv('categorias_valores.csv', encoding='ISO-8859-1')\n",
    "    \n",
    "    print(\"Dados carregados com sucesso!\")\n",
    "except Exception as e:\n",
    "    print(f\"Erro ao carregar os dados: {e}\")"
   ]
  },
  {
   "cell_type": "code",
   "execution_count": 55,
   "id": "39f92120",
   "metadata": {},
   "outputs": [
    {
     "name": "stdout",
     "output_type": "stream",
     "text": [
      "\n",
      "Primeiras linhas dos dados de vendas:\n",
      "   cod_produto      nome_produto categoria_produto segmento_produto  \\\n",
      "0  SKU-0000001   LG K10 TV Power         Celulares      Corporativo   \n",
      "1  SKU-0000002  Geladeira Duplex  Eletrodomésticos        Doméstico   \n",
      "2  SKU-0000003    Lavadora 11 Kg  Eletrodomésticos        Doméstico   \n",
      "3  SKU-0000004    Lavadora 11 Kg  Eletrodomésticos        Doméstico   \n",
      "4  SKU-0000005    Lavadora 11 Kg  Eletrodomésticos        Doméstico   \n",
      "\n",
      "  marca_produto  cod_vendedor     nome_vendedor cod_loja cidade_loja  \\\n",
      "0            LG          1009      Ana Teixeira   SP8821   São Paulo   \n",
      "1      Brastemp          1006      Josias Silva   SP8821   São Paulo   \n",
      "2      Brastemp          1006      Josias Silva   SP8821   São Paulo   \n",
      "3      Brastemp          1003  Mateus Gonçalves   SP8821   São Paulo   \n",
      "4    Electrolux          1004     Artur Moreira   SP8821   São Paulo   \n",
      "\n",
      "  estado_loja  data_venda  valor_venda  \n",
      "0   São Paulo  04/10/2012       679.00  \n",
      "1   São Paulo  01/01/2012       832.00  \n",
      "2   São Paulo  02/02/2012       790.00  \n",
      "3   São Paulo  03/03/2012       765.32  \n",
      "4   São Paulo  04/04/2012       459.89  \n",
      "\n",
      "Multiplicadores por categoria:\n",
      "           Categoria  Valor\n",
      "0          Celulares   1.20\n",
      "1  EletrodomÃ©sticos   1.15\n",
      "2       EletrÃ´nicos   1.23\n",
      "3   EletroportÃ¡teis   2.00\n"
     ]
    }
   ],
   "source": [
    "try:\n",
    "    # Carrega os dados de vendas\n",
    "    df_vendas = pd.read_csv('base_vendas.csv', sep=';', encoding='ISO-8859-1')\n",
    "\n",
    "    # Carrega os multiplicadores de categoria\n",
    "    df_categorias = pd.read_csv('categorias_valores.csv', encoding='ISO-8859-1')\n",
    "\n",
    "    # Visualização dos dados\n",
    "    print(\"\\nPrimeiras linhas dos dados de vendas:\")\n",
    "    print(df_vendas.head())\n",
    "\n",
    "    print(\"\\nMultiplicadores por categoria:\")\n",
    "    print(df_categorias)\n",
    "\n",
    "except Exception as e:\n",
    "    print(f\"Erro ao carregar os arquivos: {e}\")\n"
   ]
  },
  {
   "cell_type": "code",
   "execution_count": 56,
   "id": "f556c8e4",
   "metadata": {},
   "outputs": [],
   "source": [
    "# Converter a coluna de data para o formato datetime\n",
    "df_vendas['data_venda'] = pd.to_datetime(df_vendas['data_venda'], dayfirst=True)"
   ]
  },
  {
   "cell_type": "code",
   "execution_count": 57,
   "id": "5d73065a",
   "metadata": {},
   "outputs": [],
   "source": [
    "# Criar um dicionário com os multiplicadores de categoria\n",
    "multiplicadores = dict(zip(df_categorias['Categoria'], df_categorias['Valor']))\n"
   ]
  },
  {
   "cell_type": "code",
   "execution_count": 58,
   "id": "5ac8a6ae",
   "metadata": {},
   "outputs": [],
   "source": [
    "# Aplicar os multiplicadores para calcular o valor final\n",
    "df_vendas['venda_final'] = df_vendas.apply(\n",
    "    lambda row: row['valor_venda'] * multiplicadores.get(row['categoria_produto'], 1),\n",
    "    axis=1\n",
    ")"
   ]
  },
  {
   "cell_type": "code",
   "execution_count": 59,
   "id": "57b77a91",
   "metadata": {},
   "outputs": [],
   "source": [
    "# Selecionar apenas as colunas necessárias para o banco de dados\n",
    "df_final = df_vendas[[\n",
    "    'cod_produto', 'nome_produto', 'categoria_produto', \n",
    "    'valor_venda', 'venda_final', 'nome_vendedor', 'data_venda'\n",
    "]]"
   ]
  },
  {
   "cell_type": "code",
   "execution_count": 60,
   "id": "817e907f",
   "metadata": {},
   "outputs": [],
   "source": [
    "# Renomear colunas para padronização\n",
    "df_final.columns = [\n",
    "    'cod_produto', 'nome_produto', 'categoria', \n",
    "    'valor_venda', 'venda_final', 'nome_vendedor', 'data_venda'\n",
    "]"
   ]
  },
  {
   "cell_type": "code",
   "execution_count": 61,
   "id": "2215d8bc",
   "metadata": {},
   "outputs": [
    {
     "name": "stdout",
     "output_type": "stream",
     "text": [
      "\n",
      "DataFrame final para inserção no banco:\n",
      "   cod_produto      nome_produto         categoria  valor_venda  venda_final  \\\n",
      "0  SKU-0000001   LG K10 TV Power         Celulares       679.00       814.80   \n",
      "1  SKU-0000002  Geladeira Duplex  Eletrodomésticos       832.00       832.00   \n",
      "2  SKU-0000003    Lavadora 11 Kg  Eletrodomésticos       790.00       790.00   \n",
      "3  SKU-0000004    Lavadora 11 Kg  Eletrodomésticos       765.32       765.32   \n",
      "4  SKU-0000005    Lavadora 11 Kg  Eletrodomésticos       459.89       459.89   \n",
      "\n",
      "      nome_vendedor data_venda  \n",
      "0      Ana Teixeira 2012-10-04  \n",
      "1      Josias Silva 2012-01-01  \n",
      "2      Josias Silva 2012-02-02  \n",
      "3  Mateus Gonçalves 2012-03-03  \n",
      "4     Artur Moreira 2012-04-04  \n"
     ]
    }
   ],
   "source": [
    "# Verificar o resultado\n",
    "print(\"\\nDataFrame final para inserção no banco:\")\n",
    "print(df_final.head())"
   ]
  },
  {
   "cell_type": "code",
   "execution_count": null,
   "id": "af1c8782",
   "metadata": {},
   "outputs": [],
   "source": [
    "# ## Etapa 3: Criação da Tabela no Banco de Dados"
   ]
  },
  {
   "cell_type": "code",
   "execution_count": 62,
   "id": "a7e51428",
   "metadata": {},
   "outputs": [],
   "source": [
    "# %%\n",
    "def criar_tabela_vendas(conn):\n",
    "    \"\"\"Cria a tabela vendas_final no banco de dados\"\"\"\n",
    "    try:\n",
    "        cursor = conn.cursor()\n",
    "        \n",
    "        # SQL para criar a tabela\n",
    "        create_table_query = \"\"\"\n",
    "        DROP TABLE IF EXISTS vendas_final;\n",
    "        CREATE TABLE vendas_final (\n",
    "            id SERIAL PRIMARY KEY,\n",
    "            cod_produto VARCHAR(20) NOT NULL,\n",
    "            nome_produto VARCHAR(100) NOT NULL,\n",
    "            categoria VARCHAR(50) NOT NULL,\n",
    "            valor_venda NUMERIC(10, 2) NOT NULL,\n",
    "            venda_final NUMERIC(10, 2) NOT NULL,\n",
    "            nome_vendedor VARCHAR(100) NOT NULL,\n",
    "            data_venda DATE NOT NULL\n",
    "        );\n",
    "        \"\"\"\n",
    "        \n",
    "        cursor.execute(create_table_query)\n",
    "        conn.commit()\n",
    "        print(\"Tabela 'vendas_final' criada com sucesso!\")\n",
    "        \n",
    "    except Exception as e:\n",
    "        conn.rollback()\n",
    "        print(f\"Erro ao criar tabela: {e}\")\n",
    "    finally:\n",
    "        cursor.close()"
   ]
  },
  {
   "cell_type": "code",
   "execution_count": 63,
   "id": "92f4deae",
   "metadata": {},
   "outputs": [
    {
     "name": "stdout",
     "output_type": "stream",
     "text": [
      "Tabela 'vendas_final' criada com sucesso!\n"
     ]
    }
   ],
   "source": [
    "# Executando a criação da tabela\n",
    "if conn is not None:\n",
    "    criar_tabela_vendas(conn)"
   ]
  },
  {
   "cell_type": "code",
   "execution_count": null,
   "id": "9366bbf5",
   "metadata": {},
   "outputs": [],
   "source": [
    "# ## Etapa 4: Inserção dos Dados no Banco"
   ]
  },
  {
   "cell_type": "code",
   "execution_count": 64,
   "id": "69808677",
   "metadata": {},
   "outputs": [],
   "source": [
    "# %%\n",
    "def inserir_dados(conn, df):\n",
    "    \"\"\"Insere os dados do DataFrame na tabela vendas_final\"\"\"\n",
    "    try:\n",
    "        cursor = conn.cursor()\n",
    "        \n",
    "        # Preparar a query de inserção\n",
    "        insert_query = \"\"\"\n",
    "        INSERT INTO vendas_final \n",
    "        (cod_produto, nome_produto, categoria, valor_venda, venda_final, nome_vendedor, data_venda)\n",
    "        VALUES (%s, %s, %s, %s, %s, %s, %s);\n",
    "        \"\"\"\n",
    "        \n",
    "        # Converter o DataFrame para uma lista de tuplas\n",
    "        data_tuples = [\n",
    "            tuple(x) for x in df[[\n",
    "                'cod_produto', 'nome_produto', 'categoria', \n",
    "                'valor_venda', 'venda_final', 'nome_vendedor', 'data_venda'\n",
    "            ]].to_numpy()\n",
    "        ]\n",
    "        \n",
    "        # Executar o batch insert\n",
    "        execute_batch(cursor, insert_query, data_tuples)\n",
    "        conn.commit()\n",
    "        print(f\"Dados inseridos com sucesso! Total de registros: {len(df)}\")\n",
    "        \n",
    "    except Exception as e:\n",
    "        conn.rollback()\n",
    "        print(f\"Erro ao inserir dados: {e}\")\n",
    "    finally:\n",
    "        cursor.close()\n"
   ]
  },
  {
   "cell_type": "code",
   "execution_count": 65,
   "id": "a45ea27d",
   "metadata": {},
   "outputs": [
    {
     "name": "stdout",
     "output_type": "stream",
     "text": [
      "Dados inseridos com sucesso! Total de registros: 457\n"
     ]
    }
   ],
   "source": [
    " ##Executando a inserção dos dados\n",
    "if conn is not None:\n",
    "    inserir_dados(conn, df_final)\n"
   ]
  },
  {
   "cell_type": "code",
   "execution_count": null,
   "id": "8e46d24f",
   "metadata": {},
   "outputs": [],
   "source": [
    "# ## Etapa 5: Consultas Analíticas"
   ]
  },
  {
   "cell_type": "code",
   "execution_count": 67,
   "id": "ffb19178",
   "metadata": {},
   "outputs": [],
   "source": [
    "def executar_consulta(conn, query, params=None):\n",
    "    \"\"\"Executa uma consulta SQL e retorna os resultados\"\"\"\n",
    "    try:\n",
    "        cursor = conn.cursor()\n",
    "        \n",
    "        if params:\n",
    "            cursor.execute(query, params)\n",
    "        else:\n",
    "            cursor.execute(query)\n",
    "            \n",
    "        # Obter os nomes das colunas\n",
    "        colnames = [desc[0] for desc in cursor.description]\n",
    "        \n",
    "        # Obter os resultados\n",
    "        resultados = cursor.fetchall()\n",
    "        \n",
    "        return colnames, resultados\n",
    "        \n",
    "    except Exception as e:\n",
    "        print(f\"Erro ao executar consulta: {e}\")\n",
    "        return None, None\n",
    "    finally:\n",
    "        cursor.close()"
   ]
  },
  {
   "cell_type": "code",
   "execution_count": 68,
   "id": "75f9dabc",
   "metadata": {},
   "outputs": [],
   "source": [
    "# %%\n",
    "# Consulta 1: Total de vendas por categoria\n",
    "query1 = \"\"\"\n",
    "SELECT \n",
    "    categoria,\n",
    "    ROUND(SUM(venda_final), 2) as total_vendas\n",
    "FROM \n",
    "    vendas_final\n",
    "GROUP BY \n",
    "    categoria\n",
    "ORDER BY \n",
    "    total_vendas DESC;\n",
    "\"\"\""
   ]
  },
  {
   "cell_type": "code",
   "execution_count": 69,
   "id": "16edad49",
   "metadata": {},
   "outputs": [
    {
     "name": "stdout",
     "output_type": "stream",
     "text": [
      "\n",
      "Total de vendas por categoria:\n",
      "Categoria            Total Vendas   \n",
      "Eletrodomésticos     R$ 194764.11      \n",
      "Celulares            R$ 118718.40      \n",
      "Eletrônicos          R$ 48329.55       \n",
      "Eletroportáteis      R$ 19055.45       \n"
     ]
    }
   ],
   "source": [
    " ##Executando a consulta\n",
    "if conn is not None:\n",
    "    colnames1, resultados1 = executar_consulta(conn, query1)\n",
    "    \n",
    "    if resultados1:\n",
    "        print(\"\\nTotal de vendas por categoria:\")\n",
    "        print(\"{:<20} {:<15}\".format(\"Categoria\", \"Total Vendas\"))\n",
    "        for row in resultados1:\n",
    "            print(\"{:<20} R$ {:<15.2f}\".format(row[0], row[1]))\n"
   ]
  },
  {
   "cell_type": "code",
   "execution_count": 70,
   "id": "98dedf1a",
   "metadata": {},
   "outputs": [],
   "source": [
    "# Consulta 2: Top 3 vendedores\n",
    "query2 = \"\"\"\n",
    "SELECT \n",
    "    nome_vendedor,\n",
    "    ROUND(SUM(venda_final), 2) as total_vendas,\n",
    "    COUNT(*) as qtd_vendas\n",
    "FROM \n",
    "    vendas_final\n",
    "GROUP BY \n",
    "    nome_vendedor\n",
    "ORDER BY \n",
    "    total_vendas DESC\n",
    "LIMIT 3;\n",
    "\"\"\""
   ]
  },
  {
   "cell_type": "code",
   "execution_count": 71,
   "id": "343e8d3c",
   "metadata": {},
   "outputs": [
    {
     "name": "stdout",
     "output_type": "stream",
     "text": [
      "\n",
      "Top 3 vendedores por valor total de vendas:\n",
      "Vendedor             Total Vendas    Qtd Vendas\n",
      "André Pereira        R$ 94423.89        84        \n",
      "Maria Fernandes      R$ 59811.26        77        \n",
      "Artur Moreira        R$ 54927.79        57        \n"
     ]
    }
   ],
   "source": [
    "# Executando a consulta\n",
    "if conn is not None:\n",
    "    colnames2, resultados2 = executar_consulta(conn, query2)\n",
    "    \n",
    "    if resultados2:\n",
    "        print(\"\\nTop 3 vendedores por valor total de vendas:\")\n",
    "        print(\"{:<20} {:<15} {:<10}\".format(\"Vendedor\", \"Total Vendas\", \"Qtd Vendas\"))\n",
    "        for row in resultados2:\n",
    "            print(\"{:<20} R$ {:<15.2f} {:<10}\".format(row[0], row[1], row[2]))"
   ]
  },
  {
   "cell_type": "code",
   "execution_count": 72,
   "id": "262ad353",
   "metadata": {},
   "outputs": [],
   "source": [
    "# Consulta 3: Média de valor final de venda\n",
    "query3 = \"\"\"\n",
    "SELECT \n",
    "    ROUND(AVG(venda_final), 2) as media_venda_final\n",
    "FROM \n",
    "    vendas_final;\n",
    "\"\"\""
   ]
  },
  {
   "cell_type": "code",
   "execution_count": 73,
   "id": "5b0d4eac",
   "metadata": {},
   "outputs": [
    {
     "name": "stdout",
     "output_type": "stream",
     "text": [
      "\n",
      "Média do valor final de venda:\n",
      "R$ 833.41\n"
     ]
    }
   ],
   "source": [
    "# Executando a consulta\n",
    "if conn is not None:\n",
    "    colnames3, resultados3 = executar_consulta(conn, query3)\n",
    "    \n",
    "    if resultados3:\n",
    "        print(\"\\nMédia do valor final de venda:\")\n",
    "        print(\"R$ {:.2f}\".format(resultados3[0][0]))\n"
   ]
  },
  {
   "cell_type": "code",
   "execution_count": null,
   "id": "946fe15d",
   "metadata": {},
   "outputs": [],
   "source": [
    "# ## Etapa 6: Fechamento da Conexão\n"
   ]
  },
  {
   "cell_type": "code",
   "execution_count": 74,
   "id": "e95a27ce",
   "metadata": {},
   "outputs": [
    {
     "name": "stdout",
     "output_type": "stream",
     "text": [
      "\n",
      "Conexão com o banco de dados encerrada.\n"
     ]
    }
   ],
   "source": [
    "# Fechando a conexão com o banco de dados\n",
    "if conn is not None:\n",
    "    conn.close()\n",
    "    print(\"\\nConexão com o banco de dados encerrada.\")"
   ]
  }
 ],
 "metadata": {
  "kernelspec": {
   "display_name": "aula04",
   "language": "python",
   "name": "python3"
  },
  "language_info": {
   "codemirror_mode": {
    "name": "ipython",
    "version": 3
   },
   "file_extension": ".py",
   "mimetype": "text/x-python",
   "name": "python",
   "nbconvert_exporter": "python",
   "pygments_lexer": "ipython3",
   "version": "3.12.7"
  }
 },
 "nbformat": 4,
 "nbformat_minor": 5
}
